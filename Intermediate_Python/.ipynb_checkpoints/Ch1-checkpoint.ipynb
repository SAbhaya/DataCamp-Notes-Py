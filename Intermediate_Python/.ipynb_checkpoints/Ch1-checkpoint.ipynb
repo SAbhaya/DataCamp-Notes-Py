{
 "cells": [
  {
   "cell_type": "markdown",
   "metadata": {},
   "source": [
    "# Chapter 1 - Matplotlib\n",
    "\n",
    "\n",
    "-- to be merged from office\n",
    "\n",
    "\n",
    "\n",
    "\n",
    "\n",
    "\n",
    "\n",
    "\n",
    "\n",
    "## Labels\n",
    "\n",
    "As a first step, let's add axis labels and a title to the plot. \n",
    "You can do this with the `xlabel()`, `ylabel()` and `title()` functions, \n",
    "available in `matplotlib.pyplot`. This sub-package is already imported as `plt`.\n"
   ]
  },
  {
   "cell_type": "code",
   "execution_count": null,
   "metadata": {},
   "outputs": [],
   "source": []
  }
 ],
 "metadata": {
  "kernelspec": {
   "display_name": "Python 3",
   "language": "python",
   "name": "python3"
  },
  "language_info": {
   "codemirror_mode": {
    "name": "ipython",
    "version": 3
   },
   "file_extension": ".py",
   "mimetype": "text/x-python",
   "name": "python",
   "nbconvert_exporter": "python",
   "pygments_lexer": "ipython3",
   "version": "3.7.2"
  }
 },
 "nbformat": 4,
 "nbformat_minor": 2
}
